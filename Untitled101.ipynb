{
  "nbformat": 4,
  "nbformat_minor": 0,
  "metadata": {
    "colab": {
      "provenance": []
    },
    "kernelspec": {
      "name": "python3",
      "display_name": "Python 3"
    },
    "language_info": {
      "name": "python"
    }
  },
  "cells": [
    {
      "cell_type": "code",
      "execution_count": 1,
      "metadata": {
        "id": "yUGC-qUOTDgP"
      },
      "outputs": [],
      "source": [
        "import pandas as pd\n",
        "import numpy as np \n",
        "import seaborn as sns\n",
        "import matplotlib.pyplot as plt\n",
        "from sklearn.model_selection import train_test_split\n",
        "from sklearn.metrics import accuracy_score,confusion_matrix,classification_report\n",
        "from sklearn import metrics\n",
        "%matplotlib inline\n",
        "from sklearn import preprocessing\n",
        "from sklearn.tree import DecisionTreeRegressor # Importing Decision Tree Regressor\n",
        "from sklearn.linear_model import LinearRegression"
      ]
    },
    {
      "cell_type": "code",
      "source": [
        "df1 = pd.read_csv(\"/content/EyeT_group_dataset_III_image_name_letter_card_participant_21_trial_1.csv\")\n",
        "df2 = pd.read_csv(\"/content/EyeT_group_dataset_III_image_name_letter_card_participant_21_trial_2.csv\")\n",
        "df3 = pd.read_csv(\"/content/EyeT_group_dataset_III_image_name_letter_card_participant_21_trial_3.csv\")\n",
        "df4 = pd.read_csv(\"/content/EyeT_group_dataset_III_image_name_letter_card_participant_21_trial_4.csv\")\n",
        "# merge dataframes\n",
        "result_df = pd.concat([df1, df2, df3, df4], ignore_index=True)\n",
        "\n",
        "# print result dataframe\n",
        "print(result_df)"
      ],
      "metadata": {
        "colab": {
          "base_uri": "https://localhost:8080/"
        },
        "id": "puGCHK1GTVdR",
        "outputId": "8ee10005-bde6-4053-faf3-e6d0b6c02721"
      },
      "execution_count": 2,
      "outputs": [
        {
          "output_type": "stream",
          "name": "stdout",
          "text": [
            "       Unnamed: 0  Recording timestamp  Computer timestamp       Sensor  \\\n",
            "0            3978              5187641        435396164854          NaN   \n",
            "1            3979              5187641        435396164854          NaN   \n",
            "2            3980              5195104        435396172317  Eye Tracker   \n",
            "3            3981              5198674        435396175887        Mouse   \n",
            "4            3982              5203439        435396180652  Eye Tracker   \n",
            "...           ...                  ...                 ...          ...   \n",
            "37510       43903            109045032        435762926580  Eye Tracker   \n",
            "37511       43904            109053404        435762934952  Eye Tracker   \n",
            "37512       43905            109062881        435762944429          NaN   \n",
            "37513       43906            109062881        435762944429        Mouse   \n",
            "37514       43907            109102197        435762983745          NaN   \n",
            "\n",
            "          Project name Export date Participant name Recording name  \\\n",
            "0      Participant0021  08.02.2021  Participant0021     Recording2   \n",
            "1      Participant0021  08.02.2021  Participant0021     Recording2   \n",
            "2      Participant0021  08.02.2021  Participant0021     Recording2   \n",
            "3      Participant0021  08.02.2021  Participant0021     Recording2   \n",
            "4      Participant0021  08.02.2021  Participant0021     Recording2   \n",
            "...                ...         ...              ...            ...   \n",
            "37510  Participant0021  08.02.2021  Participant0021     Recording5   \n",
            "37511  Participant0021  08.02.2021  Participant0021     Recording5   \n",
            "37512  Participant0021  08.02.2021  Participant0021     Recording5   \n",
            "37513  Participant0021  08.02.2021  Participant0021     Recording5   \n",
            "37514  Participant0021  08.02.2021  Participant0021     Recording5   \n",
            "\n",
            "      Recording date Recording date UTC  ... Original Media height  \\\n",
            "0         08.02.2021         08.02.2021  ...                   NaN   \n",
            "1         08.02.2021         08.02.2021  ...                   NaN   \n",
            "2         08.02.2021         08.02.2021  ...                1447.0   \n",
            "3         08.02.2021         08.02.2021  ...                1447.0   \n",
            "4         08.02.2021         08.02.2021  ...                1447.0   \n",
            "...              ...                ...  ...                   ...   \n",
            "37510     08.02.2021         08.02.2021  ...                1447.0   \n",
            "37511     08.02.2021         08.02.2021  ...                1447.0   \n",
            "37512     08.02.2021         08.02.2021  ...                   NaN   \n",
            "37513     08.02.2021         08.02.2021  ...                1447.0   \n",
            "37514     08.02.2021         08.02.2021  ...                   NaN   \n",
            "\n",
            "      Eye movement type  Gaze event duration Eye movement type index  \\\n",
            "0               Saccade                 75.0                    23.0   \n",
            "1               Saccade                 75.0                    23.0   \n",
            "2               Saccade                 75.0                    23.0   \n",
            "3               Saccade                 75.0                    23.0   \n",
            "4               Saccade                 75.0                    23.0   \n",
            "...                 ...                  ...                     ...   \n",
            "37510      EyesNotFound                100.0                  3798.0   \n",
            "37511      EyesNotFound                100.0                  3798.0   \n",
            "37512               NaN                  NaN                     NaN   \n",
            "37513               NaN                  NaN                     NaN   \n",
            "37514               NaN                  NaN                     NaN   \n",
            "\n",
            "      Fixation point X Fixation point Y  Fixation point X (MCSnorm)  \\\n",
            "0                  NaN              NaN                         NaN   \n",
            "1                  NaN              NaN                         NaN   \n",
            "2                  NaN              NaN                         NaN   \n",
            "3                  NaN              NaN                         NaN   \n",
            "4                  NaN              NaN                         NaN   \n",
            "...                ...              ...                         ...   \n",
            "37510              NaN              NaN                         NaN   \n",
            "37511              NaN              NaN                         NaN   \n",
            "37512              NaN              NaN                         NaN   \n",
            "37513              NaN              NaN                         NaN   \n",
            "37514              NaN              NaN                         NaN   \n",
            "\n",
            "       Fixation point Y (MCSnorm) Mouse position X  Mouse position Y  \n",
            "0                             NaN              NaN               NaN  \n",
            "1                             NaN              NaN               NaN  \n",
            "2                             NaN              NaN               NaN  \n",
            "3                             NaN           -455.0             985.0  \n",
            "4                             NaN              NaN               NaN  \n",
            "...                           ...              ...               ...  \n",
            "37510                         NaN              NaN               NaN  \n",
            "37511                         NaN              NaN               NaN  \n",
            "37512                         NaN              NaN               NaN  \n",
            "37513                         NaN           -200.0             979.0  \n",
            "37514                         NaN              NaN               NaN  \n",
            "\n",
            "[37515 rows x 71 columns]\n"
          ]
        }
      ]
    },
    {
      "cell_type": "code",
      "source": [
        "def drop_columns2(df):\n",
        "    columns_to_drop = [\n",
        "        'Unnamed: 0','Recording timestamp','Recording duration','Recording date','Eyetracker timestamp',\n",
        "        'Project name','Computer timestamp','Export date','Recording start time UTC','Recording date UTC',\n",
        "        'Recording resolution width','Timeline name','Recording Fixation filter name','Recording software version',\n",
        "        'Recording start time','Gaze event duration','Eye movement type','Recording resolution height',\n",
        "        'Recording monitor latency','Event','Event value','Presented Stimulus name','Presented Media name',\n",
        "        'Mouse position X','Mouse position Y','Presented Media width','Presented Media height',\n",
        "        'Presented Media position X (DACSpx)','Eye movement type index','Presented Media position Y (DACSpx)',\n",
        "        'Original Media width','Original Media height',\n",
        "    ]\n",
        "    df = df.drop(columns=[col for col in columns_to_drop if col in df.columns])\n",
        "    df = df.loc[df['Sensor'] == 'Eye Tracker'].drop(columns='Sensor')\n",
        "    df = df.loc[df['Validity right'] != 'Invalid']\n",
        "    df = df.loc[df['Validity left'] != 'Invalid'].drop(columns=['Validity left','Validity right'])\n",
        "    return df"
      ],
      "metadata": {
        "id": "dVpn86WtTVgZ"
      },
      "execution_count": null,
      "outputs": []
    },
    {
      "cell_type": "code",
      "source": [
        "def handle_nulls(df):\n",
        "    # drop columns with high null values\n",
        "    df.drop(columns=['Fixation point X','Fixation point Y',\n",
        "                     'Fixation point X (MCSnorm)','Fixation point Y (MCSnorm)'], inplace=True)\n",
        "    \n",
        "    # fill remaining null values with column means\n",
        "    columns_to_fill = ['Gaze point X (MCSnorm)', 'Gaze point right Y (MCSnorm)', 'Gaze point right X (MCSnorm)',\n",
        "                       'Pupil diameter left', 'Pupil diameter right', 'Gaze point left Y (MCSnorm)', \n",
        "                       'Gaze point left X (MCSnorm)', 'Gaze point Y (MCSnorm)']\n",
        "    df[columns_to_fill] = df[columns_to_fill].fillna(df[columns_to_fill].mean())\n",
        "    \n",
        "    return df"
      ],
      "metadata": {
        "id": "HhHNNtWzTVjd"
      },
      "execution_count": null,
      "outputs": []
    },
    {
      "cell_type": "code",
      "source": [
        "import seaborn as sns\n",
        "\n",
        "# Get the count of each event\n",
        "event_counts = result_df['Eye movement type'].value_counts(dropna=False)\n",
        "\n",
        "# Create a bar plot of the event counts using Seaborn\n",
        "fig, ax = plt.subplots(figsize=(10, 6))\n",
        "sns.barplot(x=event_counts.index, y=event_counts.values, ax=ax)\n",
        "\n",
        "# Set the title and axis labels\n",
        "plt.title('Count of Eye movement type')\n",
        "plt.xlabel('Eye movement type')\n",
        "plt.ylabel('Count')\n",
        "\n",
        "plt.show()"
      ],
      "metadata": {
        "id": "2dw6Ov_OTVmf"
      },
      "execution_count": null,
      "outputs": []
    },
    {
      "cell_type": "code",
      "source": [
        "def merge_data(df):\n",
        "    # select only the numeric columns\n",
        "    numeric_cols = ['Gaze point X', 'Gaze point Y', 'Pupil diameter left', 'Pupil diameter right',\n",
        "                    'Eye position left X (DACSmm)', 'Eye position left Y (DACSmm)', 'Eye position right X (DACSmm)',\n",
        "                    'Eye position right Y (DACSmm)', 'Gaze point X (MCSnorm)', 'Gaze point Y (MCSnorm)']\n",
        "    df_numeric = df[numeric_cols]\n",
        "    \n",
        "    # create a new row with the mean of the numeric columns\n",
        "    new_row = pd.DataFrame(df_numeric.mean()).transpose()\n",
        "    \n",
        "    # add the participant name to the new row\n",
        "    new_row['Participant name'] = df['Participant name'].iloc[1]\n",
        "    \n",
        "    return new_row"
      ],
      "metadata": {
        "id": "3928tOeWTVvA"
      },
      "execution_count": null,
      "outputs": []
    },
    {
      "cell_type": "code",
      "source": [
        "def reorder_columns(df):\n",
        "    # get the list of column names\n",
        "    cols = df.columns.tolist()\n",
        "    \n",
        "    # move the last column to the first position\n",
        "    cols = [cols[-1]] + cols[:-1]\n",
        "    \n",
        "    # reorder the columns\n",
        "    df = df[cols]\n",
        "    \n",
        "    return df"
      ],
      "metadata": {
        "id": "00G8PKYbTVyV"
      },
      "execution_count": null,
      "outputs": []
    },
    {
      "cell_type": "code",
      "source": [
        "# show box plot to find outlier\n",
        "result_df.plot(kind='box', subplots=True, figsize=(10, 4),layout=(8,4))\n",
        "plt.show()"
      ],
      "metadata": {
        "id": "i8zdwvuvTV1h"
      },
      "execution_count": null,
      "outputs": []
    },
    {
      "cell_type": "code",
      "source": [
        "combine_data['Participant name'].nunique()"
      ],
      "metadata": {
        "id": "jzestzGDTV47"
      },
      "execution_count": null,
      "outputs": []
    },
    {
      "cell_type": "code",
      "source": [
        "empathy = pd.read_csv(\"Questionnaire_datasetIA.csv\",encoding='iso-8859-1', dtype={'Participant0059' : str})\n",
        "empathy"
      ],
      "metadata": {
        "id": "yviDG0tyTV8R"
      },
      "execution_count": null,
      "outputs": []
    },
    {
      "cell_type": "code",
      "source": [
        "# Extract the numerical value from the 'Participant name' column and convert it to an integer\n",
        "df1['Participant'] = df1['Participant name'].str.extract('(\\d+)').astype(int)\n",
        "\n",
        "# Print the updated DataFrame\n",
        "print(df1)"
      ],
      "metadata": {
        "id": "jfsUE16eTWAC"
      },
      "execution_count": null,
      "outputs": []
    },
    {
      "cell_type": "code",
      "source": [
        "questionaire=questionaire_df[['Participant name','Total Score extended']]"
      ],
      "metadata": {
        "id": "IH0QLjMOV-Hh"
      },
      "execution_count": null,
      "outputs": []
    },
    {
      "cell_type": "code",
      "source": [
        "# Merge the two datasets on a common column\n",
        "merged_df = pd.merge(empathy, questionaire, on='Participant name')\n",
        "\n",
        "merged_df\n"
      ],
      "metadata": {
        "id": "5_MMLz8QV-LA"
      },
      "execution_count": null,
      "outputs": []
    },
    {
      "cell_type": "code",
      "source": [],
      "metadata": {
        "id": "jnW38rm8V-On"
      },
      "execution_count": null,
      "outputs": []
    },
    {
      "cell_type": "code",
      "source": [
        "print(test_group_df.shape)\n",
        "print(control_group_df.shape)"
      ],
      "metadata": {
        "id": "xp1Mpyq6TWC3"
      },
      "execution_count": null,
      "outputs": []
    },
    {
      "cell_type": "code",
      "source": [
        "# Assumtion check\n",
        "# Distribution of  target variables for test_group.\n",
        "fig = plt.figure(figsize=(8, 6))\n",
        "sns.distplot(test_group_df['Total Score extended'])\n",
        "plt.show()"
      ],
      "metadata": {
        "id": "Rb5YuTWIWlEP"
      },
      "execution_count": null,
      "outputs": []
    },
    {
      "cell_type": "code",
      "source": [
        "from sklearn.model_selection import cross_val_score\n",
        "from sklearn.linear_model import LinearRegression\n",
        "from sklearn.preprocessing import StandardScaler\n",
        "\n",
        "# Split dataset into features and target\n",
        "X = test_group_df_train.drop(columns=['Total Score extended','Participant name'])\n",
        "y = test_group_df_train['Total Score extended']\n",
        "\n",
        "# Create a scaler object to scale the data\n",
        "scaler = StandardScaler()\n",
        "\n",
        "# Scale the features\n",
        "X_scaled = scaler.fit_transform(X)\n",
        "\n",
        "# Create a linear regression object\n",
        "lr = LinearRegression()\n",
        "\n",
        "# Perform 10-fold cross-validation and calculate R-squared\n",
        "r_squared_values = cross_val_score(lr, X_scaled, y, cv=10)\n",
        "\n",
        "# Calculate mean R-squared\n",
        "mean_r_squared = np.mean(r_squared_values)\n",
        "\n",
        "# Print mean R-squared\n",
        "print('Mean R-squared:', mean_r_squared)"
      ],
      "metadata": {
        "id": "drTlwzEoWlHi"
      },
      "execution_count": null,
      "outputs": []
    },
    {
      "cell_type": "code",
      "source": [],
      "metadata": {
        "id": "cFsAH49BWlKr"
      },
      "execution_count": null,
      "outputs": []
    },
    {
      "cell_type": "code",
      "source": [],
      "metadata": {
        "id": "v9tX2ElWWlOH"
      },
      "execution_count": null,
      "outputs": []
    },
    {
      "cell_type": "code",
      "source": [],
      "metadata": {
        "id": "SiVmVYyeWlSE"
      },
      "execution_count": null,
      "outputs": []
    },
    {
      "cell_type": "code",
      "source": [],
      "metadata": {
        "id": "iHtWYKrWWlVg"
      },
      "execution_count": null,
      "outputs": []
    },
    {
      "cell_type": "code",
      "source": [],
      "metadata": {
        "id": "vJtkM_0aWlYY"
      },
      "execution_count": null,
      "outputs": []
    },
    {
      "cell_type": "code",
      "source": [],
      "metadata": {
        "id": "eRxjXfvzWlbd"
      },
      "execution_count": null,
      "outputs": []
    },
    {
      "cell_type": "code",
      "source": [],
      "metadata": {
        "id": "dv3QTmSJWleZ"
      },
      "execution_count": null,
      "outputs": []
    },
    {
      "cell_type": "code",
      "source": [],
      "metadata": {
        "id": "_uGjEJgzWlhk"
      },
      "execution_count": null,
      "outputs": []
    }
  ]
}